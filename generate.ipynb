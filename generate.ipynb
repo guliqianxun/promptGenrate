{
 "cells": [
  {
   "cell_type": "code",
   "execution_count": null,
   "metadata": {},
   "outputs": [],
   "source": [
    "import random"
   ]
  },
  {
   "cell_type": "code",
   "execution_count": 1,
   "metadata": {},
   "outputs": [],
   "source": [
    "def generate_prompt(role='', question='', reference='', direction='', constrain='', language='ch'):\n",
    "    \"\"\"\n",
    "    Generate a research assistant prompt in either English or Chinese.\n",
    "\n",
    "    Parameters:\n",
    "    - question (str): The main question to address.\n",
    "    - reference (str): Background information or reference material.\n",
    "    - direction (str): Specific instructions on how to approach answering the question.\n",
    "    - language (str): Language of the prompt ('English' or 'Chinese').\n",
    "\n",
    "    Returns:\n",
    "    - str: A formatted prompt.\n",
    "    \"\"\"\n",
    "    if role == '':\n",
    "        role = 'algorithm engineer'\n",
    "    if question == '':\n",
    "        question = 'How can we improve the efficiency of the algorithm?'\n",
    "    if reference == '':\n",
    "        reference = 'all known knowledge'\n",
    "    if direction == '':\n",
    "        direction = 'find the best solution'\n",
    "    if constrain == '':\n",
    "        constrain = 'no constrain'\n",
    "\n",
    "    if language == 'ch':\n",
    "        role = f\"角色：{role}\"\n",
    "        question = f\"问题概述：{question}\"\n",
    "        reference = f\"参考资料摘要：{reference}\"\n",
    "        direction = f\"回答方向：{direction}\"\n",
    "        constrain = f\"约束条件：{constrain}\"    \n",
    "    else:\n",
    "        role = f\"Role: {role}\"\n",
    "        question = f\"Question Overview: {question}\"\n",
    "        reference = f\"Reference Summary: {reference}\"\n",
    "        direction = f\"Answer Direction: {direction}\"\n",
    "        constrain = f\"Constrain: {constrain}\"\n",
    "\n",
    "    prompt = f\"{role}\\n\\n{question}\\n\\n{reference}\\n\\n{direction}\\n\\n{constrain}\"\n",
    "    return prompt"
   ]
  },
  {
   "cell_type": "code",
   "execution_count": 2,
   "metadata": {},
   "outputs": [
    {
     "name": "stdout",
     "output_type": "stream",
     "text": [
      "角色：\n",
      "软件工程师\n",
      "\n",
      "\n",
      "问题概述：\n",
      "什么是图论中的最短路径问题，请举例说明\n",
      "\n",
      "\n",
      "参考资料摘要：\n",
      "所有已知知识\n",
      "\n",
      "\n",
      "回答方向：\n",
      "找到最佳解决方案\n",
      "\n",
      "\n",
      "约束条件：\n",
      "\"1. 答案必须符合学术标准，提供清晰、逻辑性强且有充分支持的答案。\"\n",
      "\"2. 避免使用人称代词，确保答案客观且专注。\"\n",
      "\"3. 回答格式应模仿科学论文的结构，包括引言、方法论、结果和结论（适用时）。\n",
      "\n"
     ]
    }
   ],
   "source": [
    "role = \"\"\"\n",
    "软件工程师\n",
    "\"\"\"\n",
    "question = \"\"\"\n",
    "什么是图论中的最短路径问题，请举例说明\n",
    "\"\"\"\n",
    "reference = \"\"\"\n",
    "所有已知知识\n",
    "\"\"\"\n",
    "direction = \"\"\"\n",
    "找到最佳解决方案\n",
    "\"\"\"\n",
    "constrain = \"\"\"\n",
    "\"1. 答案必须符合学术标准，提供清晰、逻辑性强且有充分支持的答案。\"\n",
    "\"2. 避免使用人称代词，确保答案客观且专注。\"\n",
    "\"3. 回答格式应模仿科学论文的结构，包括引言、方法论、结果和结论（适用时）。\n",
    "\"\"\"\n",
    "language = 'ch'\n",
    "\n",
    "prompt = generate_prompt(role, question, reference, direction, constrain, language)\n",
    "#save the prompt to a file\n",
    "with open('prompt.txt', 'w',encoding='utf-8') as f:\n",
    "    f.write(prompt)\n",
    "\n",
    "print(prompt)"
   ]
  },
  {
   "cell_type": "code",
   "execution_count": 9,
   "metadata": {},
   "outputs": [
    {
     "name": "stdout",
     "output_type": "stream",
     "text": [
      "Role: \n",
      "Algorithm Engineer\n",
      "\n",
      "\n",
      "Question Overview: \n",
      "How can we improve the efficiency of the algorithm?\n",
      "\n",
      "\n",
      "Reference Summary: \n",
      "All known knowledge\n",
      "\n",
      "\n",
      "Answer Direction: \n",
      "Find the best solution\n",
      "\n",
      "\n",
      "Constrain: \n",
      "\"1. The response must adhere to academic standards, providing clear, logical, and well-supported answers.\"\n",
      "\"2. Avoid the use of personal pronouns, ensuring the answer remains objective and focused.\"\n",
      "\"3. Format the response to mimic the structure of a scientific paper, including an introduction, methodology, results, and conclusion where applicable.\")\n",
      "\n"
     ]
    }
   ],
   "source": [
    "role = \"\"\"\n",
    "Algorithm Engineer\n",
    "\"\"\"\n",
    "question = \"\"\"\n",
    "How can we improve the efficiency of the algorithm?\n",
    "\"\"\"\n",
    "reference = \"\"\"\n",
    "All known knowledge\n",
    "\"\"\"\n",
    "direction = \"\"\"\n",
    "Find the best solution\n",
    "\"\"\"\n",
    "constrain = \"\"\"\n",
    "\"1. The response must adhere to academic standards, providing clear, logical, and well-supported answers.\"\n",
    "\"2. Avoid the use of personal pronouns, ensuring the answer remains objective and focused.\"\n",
    "\"3. Format the response to mimic the structure of a scientific paper, including an introduction, methodology, results, and conclusion where applicable.\")\n",
    "\"\"\"\n",
    "language = 'en'\n",
    "\n",
    "prompt = generate_prompt(role, question, reference, direction, constrain, language)\n",
    "#save the prompt to a file\n",
    "with open('prompt.txt', 'w',encoding='utf-8') as f:\n",
    "    f.write(prompt)\n",
    "print(prompt)"
   ]
  },
  {
   "cell_type": "code",
   "execution_count": null,
   "metadata": {},
   "outputs": [],
   "source": []
  }
 ],
 "metadata": {
  "kernelspec": {
   "display_name": "Python 3",
   "language": "python",
   "name": "python3"
  },
  "language_info": {
   "codemirror_mode": {
    "name": "ipython",
    "version": 3
   },
   "file_extension": ".py",
   "mimetype": "text/x-python",
   "name": "python",
   "nbconvert_exporter": "python",
   "pygments_lexer": "ipython3",
   "version": "3.11.5"
  },
  "orig_nbformat": 4
 },
 "nbformat": 4,
 "nbformat_minor": 2
}
